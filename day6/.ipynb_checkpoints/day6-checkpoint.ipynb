{
 "cells": [
  {
   "cell_type": "code",
   "execution_count": 45,
   "id": "7998f68f",
   "metadata": {},
   "outputs": [],
   "source": [
    "#imports\n",
    "import re\n",
    "from collections import Counter, defaultdict\n",
    "import numpy as np"
   ]
  },
  {
   "cell_type": "code",
   "execution_count": 46,
   "id": "3ad3b069",
   "metadata": {},
   "outputs": [],
   "source": [
    "with open(\"data.txt\") as f:\n",
    "\n",
    "  data = f.read()"
   ]
  },
  {
   "cell_type": "code",
   "execution_count": 47,
   "id": "c97dbbbc",
   "metadata": {},
   "outputs": [
    {
     "name": "stdout",
     "output_type": "stream",
     "text": [
      "5,1,2,1,5,3,1,1,1,1,1,2,5,4,1,1,1,1,2,1,2,1,1,1,1,1,2,1,5,1,1,1,3,1,1,1,3,1,1,3,1,1,4,3,1,1,4,1,1,1,1,2,1,1,1,5,1,1,5,1,1,1,4,4,2,5,1,1,5,1,1,2,2,1,2,1,1,5,3,1,2,1,1,3,1,4,3,3,1,1,3,1,5,1,1,3,1,1,4,4,1,1,1,5,1,1,1,4,4,1,3,1,4,1,1,4,5,1,1,1,4,3,1,4,1,1,4,4,3,5,1,2,2,1,2,2,1,1,1,2,1,1,1,4,1,1,3,1,1,2,1,4,1,1,1,1,1,1,1,1,2,2,1,1,5,5,1,1,1,5,1,1,1,1,5,1,3,2,1,1,5,2,3,1,2,2,2,5,1,1,3,1,1,1,5,1,4,1,1,1,3,2,1,3,3,1,3,1,1,1,1,1,1,1,2,3,1,5,1,4,1,3,5,1,1,1,2,2,1,1,1,1,5,4,1,1,3,1,2,4,2,1,1,3,5,1,1,1,3,1,1,1,5,1,1,1,1,1,3,1,1,1,4,1,1,1,1,2,2,1,1,1,1,5,3,1,2,3,4,1,1,5,1,2,4,2,1,1,1,2,1,1,1,1,1,1,1,4,1,5\n"
     ]
    }
   ],
   "source": [
    "print(data)"
   ]
  },
  {
   "cell_type": "code",
   "execution_count": 48,
   "id": "cc1a5342",
   "metadata": {},
   "outputs": [
    {
     "name": "stdout",
     "output_type": "stream",
     "text": [
      "[5, 1, 2, 1, 5, 3, 1, 1, 1, 1, 1, 2, 5, 4, 1, 1, 1, 1, 2, 1, 2, 1, 1, 1, 1, 1, 2, 1, 5, 1, 1, 1, 3, 1, 1, 1, 3, 1, 1, 3, 1, 1, 4, 3, 1, 1, 4, 1, 1, 1, 1, 2, 1, 1, 1, 5, 1, 1, 5, 1, 1, 1, 4, 4, 2, 5, 1, 1, 5, 1, 1, 2, 2, 1, 2, 1, 1, 5, 3, 1, 2, 1, 1, 3, 1, 4, 3, 3, 1, 1, 3, 1, 5, 1, 1, 3, 1, 1, 4, 4, 1, 1, 1, 5, 1, 1, 1, 4, 4, 1, 3, 1, 4, 1, 1, 4, 5, 1, 1, 1, 4, 3, 1, 4, 1, 1, 4, 4, 3, 5, 1, 2, 2, 1, 2, 2, 1, 1, 1, 2, 1, 1, 1, 4, 1, 1, 3, 1, 1, 2, 1, 4, 1, 1, 1, 1, 1, 1, 1, 1, 2, 2, 1, 1, 5, 5, 1, 1, 1, 5, 1, 1, 1, 1, 5, 1, 3, 2, 1, 1, 5, 2, 3, 1, 2, 2, 2, 5, 1, 1, 3, 1, 1, 1, 5, 1, 4, 1, 1, 1, 3, 2, 1, 3, 3, 1, 3, 1, 1, 1, 1, 1, 1, 1, 2, 3, 1, 5, 1, 4, 1, 3, 5, 1, 1, 1, 2, 2, 1, 1, 1, 1, 5, 4, 1, 1, 3, 1, 2, 4, 2, 1, 1, 3, 5, 1, 1, 1, 3, 1, 1, 1, 5, 1, 1, 1, 1, 1, 3, 1, 1, 1, 4, 1, 1, 1, 1, 2, 2, 1, 1, 1, 1, 5, 3, 1, 2, 3, 4, 1, 1, 5, 1, 2, 4, 2, 1, 1, 1, 2, 1, 1, 1, 1, 1, 1, 1, 4, 1, 5]\n"
     ]
    }
   ],
   "source": [
    "#chunks = re.split(',', data)\n",
    "#fish = []\n",
    "#for chunk in chunks:\n",
    "#    fish.append(int(chunk))\n",
    "#print(fish)"
   ]
  },
  {
   "cell_type": "code",
   "execution_count": 52,
   "id": "2e4aa8be",
   "metadata": {},
   "outputs": [],
   "source": [
    "def get_input(file):\n",
    "    fish = defaultdict(int)\n",
    "    all_fish = open(file).readline().strip().split(',')\n",
    "    for f in all_fish:\n",
    "        fish[int(f)] += 1\n",
    "    return fish"
   ]
  },
  {
   "cell_type": "code",
   "execution_count": 54,
   "id": "869a1735",
   "metadata": {},
   "outputs": [
    {
     "name": "stdout",
     "output_type": "stream",
     "text": [
      "383160\n",
      "1721148811504\n"
     ]
    }
   ],
   "source": [
    "def simulate(school, days):\n",
    "    school = fish\n",
    "    for day in range(days):\n",
    "        new_fish = defaultdict(int)\n",
    "        for timer, number in school.items():\n",
    "            if timer == 0:\n",
    "                new_fish[6] += number\n",
    "                new_fish[8] = number\n",
    "            else:\n",
    "                new_fish[timer-1] += number\n",
    "        school = new_fish\n",
    "    return sum(school.values())\n",
    "\n",
    "if __name__ == '__main__':\n",
    "    fish = get_input('data.txt')\n",
    "    print(simulate(fish, 80))\n",
    "    print(simulate(fish, 256))"
   ]
  },
  {
   "cell_type": "code",
   "execution_count": null,
   "id": "3007a321",
   "metadata": {},
   "outputs": [],
   "source": []
  }
 ],
 "metadata": {
  "kernelspec": {
   "display_name": "Python 3",
   "language": "python",
   "name": "python3"
  },
  "language_info": {
   "codemirror_mode": {
    "name": "ipython",
    "version": 3
   },
   "file_extension": ".py",
   "mimetype": "text/x-python",
   "name": "python",
   "nbconvert_exporter": "python",
   "pygments_lexer": "ipython3",
   "version": "3.8.8"
  }
 },
 "nbformat": 4,
 "nbformat_minor": 5
}
